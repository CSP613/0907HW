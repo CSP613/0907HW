{
  "nbformat": 4,
  "nbformat_minor": 0,
  "metadata": {
    "colab": {
      "provenance": [],
      "authorship_tag": "ABX9TyMAfbqNTycE2yYc68/qClIT",
      "include_colab_link": true
    },
    "kernelspec": {
      "name": "python3",
      "display_name": "Python 3"
    },
    "language_info": {
      "name": "python"
    }
  },
  "cells": [
    {
      "cell_type": "markdown",
      "metadata": {
        "id": "view-in-github",
        "colab_type": "text"
      },
      "source": [
        "<a href=\"https://colab.research.google.com/github/CSP613/0907HW/blob/main/0907.ipynb\" target=\"_parent\"><img src=\"https://colab.research.google.com/assets/colab-badge.svg\" alt=\"Open In Colab\"/></a>"
      ]
    },
    {
      "cell_type": "markdown",
      "source": [
        "# **使用keras cnn實作手寫辨識**"
      ],
      "metadata": {
        "id": "fOINHj3lTZs7"
      }
    },
    {
      "cell_type": "code",
      "execution_count": 1,
      "metadata": {
        "colab": {
          "base_uri": "https://localhost:8080/"
        },
        "id": "bVglFP5BJkcE",
        "outputId": "73c49fb3-4cc3-4d5f-b8ed-2fb74f412d5d"
      },
      "outputs": [
        {
          "output_type": "stream",
          "name": "stdout",
          "text": [
            "Downloading data from https://storage.googleapis.com/tensorflow/tf-keras-datasets/mnist.npz\n",
            "11490434/11490434 [==============================] - 0s 0us/step\n",
            "Epoch 1/10\n",
            "469/469 [==============================] - 56s 116ms/step - loss: 0.2987 - accuracy: 0.9092 - val_loss: 0.0594 - val_accuracy: 0.9803\n",
            "Epoch 2/10\n",
            "469/469 [==============================] - 53s 113ms/step - loss: 0.0974 - accuracy: 0.9718 - val_loss: 0.0440 - val_accuracy: 0.9846\n",
            "Epoch 3/10\n",
            "469/469 [==============================] - 52s 111ms/step - loss: 0.0765 - accuracy: 0.9769 - val_loss: 0.0351 - val_accuracy: 0.9892\n",
            "Epoch 4/10\n",
            "469/469 [==============================] - 52s 111ms/step - loss: 0.0616 - accuracy: 0.9814 - val_loss: 0.0352 - val_accuracy: 0.9884\n",
            "Epoch 5/10\n",
            "469/469 [==============================] - 54s 115ms/step - loss: 0.0536 - accuracy: 0.9839 - val_loss: 0.0334 - val_accuracy: 0.9885\n",
            "Epoch 6/10\n",
            "469/469 [==============================] - 52s 110ms/step - loss: 0.0448 - accuracy: 0.9862 - val_loss: 0.0296 - val_accuracy: 0.9902\n",
            "Epoch 7/10\n",
            "469/469 [==============================] - 52s 111ms/step - loss: 0.0424 - accuracy: 0.9868 - val_loss: 0.0287 - val_accuracy: 0.9905\n",
            "Epoch 8/10\n",
            "469/469 [==============================] - 53s 114ms/step - loss: 0.0368 - accuracy: 0.9883 - val_loss: 0.0278 - val_accuracy: 0.9905\n",
            "Epoch 9/10\n",
            "469/469 [==============================] - 52s 110ms/step - loss: 0.0312 - accuracy: 0.9903 - val_loss: 0.0305 - val_accuracy: 0.9906\n",
            "Epoch 10/10\n",
            "469/469 [==============================] - 53s 113ms/step - loss: 0.0292 - accuracy: 0.9907 - val_loss: 0.0255 - val_accuracy: 0.9917\n",
            "Test loss: 0.025523236021399498\n",
            "Test accuracy: 0.9916999936103821\n"
          ]
        }
      ],
      "source": [
        "import numpy as np\n",
        "import tensorflow as tf\n",
        "from tensorflow.keras.datasets import mnist\n",
        "from tensorflow.keras.models import Sequential\n",
        "from tensorflow.keras.layers import Conv2D, MaxPooling2D, Flatten, Dense, Dropout\n",
        "from tensorflow.keras.utils import to_categorical\n",
        "\n",
        "# 載入MNIST數據集\n",
        "(x_train, y_train), (x_test, y_test) = mnist.load_data()\n",
        "\n",
        "# 正規化並調整數據\n",
        "x_train = x_train.reshape(x_train.shape[0], 28, 28, 1).astype('float32') / 255\n",
        "x_test = x_test.reshape(x_test.shape[0], 28, 28, 1).astype('float32') / 255\n",
        "y_train = to_categorical(y_train, 10)\n",
        "y_test = to_categorical(y_test, 10)\n",
        "\n",
        "# 創建CNN模型\n",
        "model = Sequential()\n",
        "model.add(Conv2D(32, kernel_size=(3, 3), activation='relu', input_shape=(28, 28, 1)))\n",
        "model.add(MaxPooling2D(pool_size=(2, 2)))\n",
        "model.add(Conv2D(64, kernel_size=(3, 3), activation='relu'))\n",
        "model.add(MaxPooling2D(pool_size=(2, 2)))\n",
        "model.add(Flatten())\n",
        "model.add(Dense(128, activation='relu'))\n",
        "model.add(Dropout(0.5))\n",
        "model.add(Dense(10, activation='softmax'))\n",
        "\n",
        "# 編譯模型\n",
        "model.compile(loss='categorical_crossentropy', optimizer='adam', metrics=['accuracy'])\n",
        "\n",
        "# 訓練模型\n",
        "model.fit(x_train, y_train, batch_size=128, epochs=10, verbose=1, validation_data=(x_test, y_test))\n",
        "\n",
        "# 評估模型\n",
        "score = model.evaluate(x_test, y_test, verbose=0)\n",
        "print('Test loss:', score[0])\n",
        "print('Test accuracy:', score[1])"
      ]
    },
    {
      "cell_type": "markdown",
      "source": [
        "# **使用keras dnn實作手寫辨識**"
      ],
      "metadata": {
        "id": "zpkGUjrwTz2b"
      }
    },
    {
      "cell_type": "code",
      "source": [
        "import numpy as np\n",
        "import tensorflow as tf\n",
        "from tensorflow.keras.datasets import mnist\n",
        "from tensorflow.keras.models import Sequential\n",
        "from tensorflow.keras.layers import Dense, Flatten\n",
        "from tensorflow.keras.utils import to_categorical\n",
        "\n",
        "# 載入MNIST數據集\n",
        "(x_train, y_train), (x_test, y_test) = mnist.load_data()\n",
        "\n",
        "# 正規化並調整數據\n",
        "x_train = x_train.reshape(x_train.shape[0], 28*28).astype('float32') / 255\n",
        "x_test = x_test.reshape(x_test.shape[0], 28*28).astype('float32') / 255\n",
        "y_train = to_categorical(y_train, 10)\n",
        "y_test = to_categorical(y_test, 10)\n",
        "\n",
        "# 創建DNN模型\n",
        "model = Sequential()\n",
        "model.add(Dense(128, input_shape=(28*28,), activation='relu'))\n",
        "model.add(Dense(64, activation='relu'))\n",
        "model.add(Dense(10, activation='softmax'))\n",
        "\n",
        "# 編譯模型\n",
        "model.compile(loss='categorical_crossentropy', optimizer='adam', metrics=['accuracy'])\n",
        "\n",
        "# 訓練模型\n",
        "model.fit(x_train, y_train, batch_size=128, epochs=10, verbose=1, validation_data=(x_test, y_test))\n",
        "\n",
        "# 評估模型\n",
        "score = model.evaluate(x_test, y_test, verbose=0)\n",
        "print('Test loss:', score[0])\n",
        "print('Test accuracy:', score[1])"
      ],
      "metadata": {
        "colab": {
          "base_uri": "https://localhost:8080/"
        },
        "id": "uxnCTTBgP_Ni",
        "outputId": "0f6e313f-7e78-4487-b6b4-b73e782d93ea"
      },
      "execution_count": 2,
      "outputs": [
        {
          "output_type": "stream",
          "name": "stdout",
          "text": [
            "Epoch 1/10\n",
            "469/469 [==============================] - 3s 6ms/step - loss: 0.3384 - accuracy: 0.9047 - val_loss: 0.1646 - val_accuracy: 0.9509\n",
            "Epoch 2/10\n",
            "469/469 [==============================] - 3s 7ms/step - loss: 0.1374 - accuracy: 0.9593 - val_loss: 0.1254 - val_accuracy: 0.9614\n",
            "Epoch 3/10\n",
            "469/469 [==============================] - 2s 5ms/step - loss: 0.0966 - accuracy: 0.9714 - val_loss: 0.0969 - val_accuracy: 0.9686\n",
            "Epoch 4/10\n",
            "469/469 [==============================] - 2s 5ms/step - loss: 0.0747 - accuracy: 0.9774 - val_loss: 0.0867 - val_accuracy: 0.9733\n",
            "Epoch 5/10\n",
            "469/469 [==============================] - 2s 5ms/step - loss: 0.0587 - accuracy: 0.9816 - val_loss: 0.0881 - val_accuracy: 0.9741\n",
            "Epoch 6/10\n",
            "469/469 [==============================] - 3s 6ms/step - loss: 0.0481 - accuracy: 0.9851 - val_loss: 0.0918 - val_accuracy: 0.9715\n",
            "Epoch 7/10\n",
            "469/469 [==============================] - 3s 7ms/step - loss: 0.0399 - accuracy: 0.9877 - val_loss: 0.0827 - val_accuracy: 0.9749\n",
            "Epoch 8/10\n",
            "469/469 [==============================] - 2s 5ms/step - loss: 0.0319 - accuracy: 0.9901 - val_loss: 0.0858 - val_accuracy: 0.9751\n",
            "Epoch 9/10\n",
            "469/469 [==============================] - 2s 5ms/step - loss: 0.0266 - accuracy: 0.9917 - val_loss: 0.0790 - val_accuracy: 0.9779\n",
            "Epoch 10/10\n",
            "469/469 [==============================] - 2s 5ms/step - loss: 0.0221 - accuracy: 0.9931 - val_loss: 0.0825 - val_accuracy: 0.9772\n",
            "Test loss: 0.08246869593858719\n",
            "Test accuracy: 0.9771999716758728\n"
          ]
        }
      ]
    }
  ]
}